{
 "cells": [
  {
   "cell_type": "markdown",
   "id": "97482395-5529-4356-838d-61ede570678c",
   "metadata": {},
   "source": [
    "# Introducción a Numpy"
   ]
  },
  {
   "cell_type": "markdown",
   "id": "c33f0864-9fc1-48e5-b3f7-d77c17f95950",
   "metadata": {},
   "source": [
    "[numpy](https://numpy.org/doc/stable/) es una librería para la computación con Python."
   ]
  },
  {
   "cell_type": "markdown",
   "id": "c894aad2",
   "metadata": {},
   "source": [
    "* Proporciona Arrays N-Dimencionales.\n",
    "* Implementa funciones matemáticas sofisticadas.\n",
    "* Proporciona herraminetas para integrar C/C++ y Fortran.\n",
    "* Porporciona mecanismos para facilitar la realización de las tareas relacionadas con álgebra lineal o numeros aleatorios."
   ]
  },
  {
   "cell_type": "markdown",
   "id": "fef1d407",
   "metadata": {},
   "source": [
    "# Imports"
   ]
  },
  {
   "cell_type": "markdown",
   "id": "1857d4ea",
   "metadata": {},
   "source": [
    "import numpy as np"
   ]
  },
  {
   "cell_type": "markdown",
   "id": "e405a287",
   "metadata": {},
   "source": [
    "## Arrays\n",
    "Un **array** es una estructura de datos que consiste en una colección de elemtos (valores o variables), cada uno identificado por almenos un índice o clave. Un array se almacena en modo que la posición de cada elemento se pueda calcular a apartir de su tupla de indice, mediante una fórmula matemática. El tipo más simple de array es un array lineal, tambien llamdo array unidimensional."
   ]
  },
  {
   "cell_type": "markdown",
   "id": "5c3e96d2",
   "metadata": {},
   "source": [
    "En Numpy:"
   ]
  },
  {
   "cell_type": "markdown",
   "id": "b938ebd4",
   "metadata": {},
   "source": [
    "* Cada dimensión se demonima axis.\n",
    "*El número de dimensiones se demonina como rank.\n",
    "*La lista de dimensiones con su correspondiente longitud se demonina **shape**.\n",
    "*El número total de elementos (multiplicación de la longitud de las dimensiones) se denomina **size**."
   ]
  },
  {
   "cell_type": "code",
   "execution_count": 8,
   "id": "44c5578c",
   "metadata": {},
   "outputs": [
    {
     "data": {
      "text/plain": [
       "array([[0., 0., 0., 0.],\n",
       "       [0., 0., 0., 0.]])"
      ]
     },
     "execution_count": 8,
     "metadata": {},
     "output_type": "execute_result"
    }
   ],
   "source": [
    "# Array cuyos valores son todos 0.\n",
    "a = np.zeros((2,4))\n",
    "a"
   ]
  },
  {
   "cell_type": "markdown",
   "id": "cfd56e63",
   "metadata": {},
   "source": [
    "a es un array:"
   ]
  },
  {
   "cell_type": "markdown",
   "id": "c7a59a1f",
   "metadata": {},
   "source": [
    "* Con dos axis, el primero de longitud 2 y el segundo de longitud 4.\n",
    "* Con un rank igual a 2.\n",
    "* Con un **shape** igual (2,4).\n",
    "* Con un size igual a 8."
   ]
  },
  {
   "cell_type": "code",
   "execution_count": null,
   "id": "b662c433",
   "metadata": {},
   "outputs": [],
   "source": []
  }
 ],
 "metadata": {
  "kernelspec": {
   "display_name": "Python 3 (ipykernel)",
   "language": "python",
   "name": "python3"
  },
  "language_info": {
   "codemirror_mode": {
    "name": "ipython",
    "version": 3
   },
   "file_extension": ".py",
   "mimetype": "text/x-python",
   "name": "python",
   "nbconvert_exporter": "python",
   "pygments_lexer": "ipython3",
   "version": "3.9.7"
  }
 },
 "nbformat": 4,
 "nbformat_minor": 5
}
